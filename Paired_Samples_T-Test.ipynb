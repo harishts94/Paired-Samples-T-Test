{
 "cells": [
  {
   "cell_type": "markdown",
   "id": "af2ff684-e393-4a6c-83ad-5b86c5fb784c",
   "metadata": {
    "panel-layout": {
     "height": 60.60185241699219,
     "visible": true,
     "width": 100
    }
   },
   "source": [
    "# Paired Samples T-Test\n",
    "\n",
    "A paired sample t-test (also known as a dependent t-test or repeated measures t-test) is a statistical method used to compare the means of two related groups to determine if there is a statistically significant difference between them. It is often used when the two groups are not independent but are instead paired or matched in some way.\n",
    "\n",
    "Related Groups: The test is used when the two groups consist of the same individuals or matched pairs (e.g., pre-test vs. post-test scores, or measurements taken under two different conditions).\n",
    "\n",
    "Comparison of Differences: The test evaluates whether the mean difference between paired observations is significantly different from zero.\n",
    "\n",
    "For example, this test can be utilised to see if there is a significant difference in sales before and after the marketing campain, or difference in player performance before and after a training."
   ]
  },
  {
   "cell_type": "markdown",
   "id": "8a65ca8a-80ab-430c-88f2-9d99ec3da32a",
   "metadata": {
    "panel-layout": {
     "height": 44.074073791503906,
     "visible": true,
     "width": 100
    }
   },
   "source": [
    "### Import required packages"
   ]
  },
  {
   "cell_type": "code",
   "execution_count": 3,
   "id": "85f99923-b4dd-46fa-b1f7-b04cd892d6df",
   "metadata": {},
   "outputs": [],
   "source": [
    "import numpy as np\n",
    "import matplotlib.pyplot as plt\n",
    "from scipy.stats import ttest_rel, norm"
   ]
  },
  {
   "cell_type": "markdown",
   "id": "75d0f4c2-0021-4823-af00-42a596b57300",
   "metadata": {
    "panel-layout": {
     "height": 44.074073791503906,
     "visible": true,
     "width": 100
    }
   },
   "source": [
    "### Create Mock data"
   ]
  },
  {
   "cell_type": "code",
   "execution_count": 8,
   "id": "6ec2b4b4-9a73-4106-80b3-3171b890e9e1",
   "metadata": {},
   "outputs": [],
   "source": [
    "sample_before = norm.rvs(loc = 500, scale= 100, size= 100, random_state= 42).astype(int)\n",
    "np.random.seed(42)\n",
    "sample_after = sample_before + np.random.randint(low= -50, high= 75, size= 100)"
   ]
  },
  {
   "cell_type": "markdown",
   "id": "7098a49f-48c7-463e-a38e-b2c46f13dfe0",
   "metadata": {
    "panel-layout": {
     "height": 252.65045166015625,
     "visible": true,
     "width": 100
    }
   },
   "source": [
    "`norm.rvs` allows to create some random variables in the form of a normal distribuition\n",
    "\n",
    "`loc` refers to location, it is a kind of odd way to say the mean of the distribuition\n",
    "\n",
    "`scale` refers to standard deviation\n",
    "\n",
    "`size` refers to sample size\n",
    "\n",
    "Alternatively the following code can also be used to create a normal distribuition random sample `x = np.random.normal(500, 100, 1000).astype(int)` & `use np.random.seed(42)` for random state setting"
   ]
  },
  {
   "cell_type": "markdown",
   "id": "89b8c691-c22c-44ab-9c6e-7086aa31eb65",
   "metadata": {
    "panel-layout": {
     "height": 43.206016540527344,
     "visible": true,
     "width": 100
    }
   },
   "source": [
    "#### Visualizing the distribution of the data"
   ]
  },
  {
   "cell_type": "code",
   "execution_count": 12,
   "id": "5e81084d-5f95-41f9-9ab6-2f9d2baaa5ee",
   "metadata": {
    "panel-layout": {
     "height": 700.995361328125,
     "visible": true,
     "width": 100
    }
   },
   "outputs": [
    {
     "data": {
      "image/png": "[encoded data removed]",
      "text/plain": [
       "<Figure size 640x480 with 1 Axes>"
      ]
     },
     "metadata": {},
     "output_type": "display_data"
    }
   ],
   "source": [
    "plt.hist(sample_before, density= True, alpha= 0.5, label= \"before\")\n",
    "plt.hist(sample_after, density= True, alpha= 0.5, label= \"after\")\n",
    "plt.tight_layout()\n",
    "plt.legend()\n",
    "plt.show()"
   ]
  },
  {
   "cell_type": "markdown",
   "id": "f6da4be3-05d2-4252-8454-9c56c887fb14",
   "metadata": {
    "panel-layout": {
     "height": 69.00462341308594,
     "visible": true,
     "width": 100
    }
   },
   "source": [
    "`density` will return the proportional frequency on the plot rather than the raw numbers"
   ]
  },
  {
   "cell_type": "markdown",
   "id": "4ca8fc7b-480e-42ec-a803-a96e851314c2",
   "metadata": {
    "panel-layout": {
     "height": 43.206016540527344,
     "visible": true,
     "width": 100
    }
   },
   "source": [
    "#### Mean of the data"
   ]
  },
  {
   "cell_type": "code",
   "execution_count": 14,
   "id": "5f52989f-aff8-47bb-9158-710ef6476eb1",
   "metadata": {
    "panel-layout": {
     "height": 700.995361328125,
     "visible": true,
     "width": 100
    }
   },
   "outputs": [
    {
     "name": "stdout",
     "output_type": "stream",
     "text": [
      "Mean of sample_before = 489.15\n",
      "Mean of sample_after = 499.45\n"
     ]
    }
   ],
   "source": [
    "sample_before_mean = sample_before.mean()\n",
    "sample_after_mean = sample_after.mean()\n",
    "print(f\"Mean of sample_before = {sample_before_mean}\\nMean of sample_after = {sample_after_mean}\")"
   ]
  },
  {
   "cell_type": "markdown",
   "id": "8baa0aa4-1a24-4224-8f1c-1152b6af5df3",
   "metadata": {
    "panel-layout": {
     "height": 44.074073791503906,
     "visible": true,
     "width": 100
    }
   },
   "source": [
    "### Set the hypothesis and acceptance criteria"
   ]
  },
  {
   "cell_type": "code",
   "execution_count": 16,
   "id": "cd472cdc-ae37-4da4-99a1-b1c610e6ee02",
   "metadata": {},
   "outputs": [],
   "source": [
    "null_hypothesis = \"The mean of sample_before is equal to mean of the mean of sample_after.\"\n",
    "alternative_hypothesis = \"The mean of sample_before is diffrent to mean of the mean of sample_after.\"\n",
    "acceptance_criteria = 0.05"
   ]
  },
  {
   "cell_type": "markdown",
   "id": "94734bc1-d8b9-4782-a25f-04592bed5545",
   "metadata": {
    "panel-layout": {
     "height": 44.074073791503906,
     "visible": true,
     "width": 100
    }
   },
   "source": [
    "### Execute the hypothesis test"
   ]
  },
  {
   "cell_type": "code",
   "execution_count": 18,
   "id": "8cdea459-0dff-48c7-a646-123fc8ec49d4",
   "metadata": {
    "panel-layout": {
     "height": 700.995361328125,
     "visible": true,
     "width": 100
    }
   },
   "outputs": [
    {
     "name": "stdout",
     "output_type": "stream",
     "text": [
      "t-statistic = -2.8179652769230237\n",
      "p-value = 0.005835901774122185\n"
     ]
    }
   ],
   "source": [
    "t_statistic, p_value = ttest_rel(sample_before, sample_after)\n",
    "print(f\"t-statistic = {t_statistic}\\np-value = {p_value}\")"
   ]
  },
  {
   "cell_type": "markdown",
   "id": "edd38975-cd21-42f8-a802-8941ab967b13",
   "metadata": {
    "panel-layout": {
     "height": 44.074073791503906,
     "visible": true,
     "width": 100
    }
   },
   "source": [
    "### Result of the test (p-value)"
   ]
  },
  {
   "cell_type": "code",
   "execution_count": 20,
   "id": "9a2f01f7-d54c-4447-aaf4-20f3a94a9ec6",
   "metadata": {},
   "outputs": [
    {
     "name": "stdout",
     "output_type": "stream",
     "text": [
      "As our p-value of 0.005835901774122185 is lower than our acceptance criteria of 0.05 - we reject the null hypothesis, and conclude that: The mean of sample_before is diffrent to mean of the mean of sample_after.\n"
     ]
    }
   ],
   "source": [
    "if p_value <= acceptance_criteria:\n",
    "    print(f\"As our p-value of {p_value} is lower than our acceptance criteria of {acceptance_criteria} - we reject the null hypothesis, and conclude that: {alternative_hypothesis}\")\n",
    "else:\n",
    "    print(f\"As our p-value of {p_value} is higher than our acceptance criteria of {acceptance_criteria} - we retain the null hypothesis, and conclude that: {null_hypothesis}\")"
   ]
  },
  {
   "cell_type": "markdown",
   "id": "48cfa5f6-3134-441b-98f7-6e3ae0ea0fcc",
   "metadata": {},
   "source": [
    "### Interpreting the test result\n",
    "\n",
    "From Paired sample t-test, it can concluded that as `p-value` (0.005) is lower than our `acceptance criteria` (0.05), there is a significant difference between the mean of sample_before and sample_after."
   ]
  }
 ],
 "metadata": {
  "kernelspec": {
   "display_name": "Python 3 (ipykernel)",
   "language": "python",
   "name": "python3"
  },
  "language_info": {
   "codemirror_mode": {
    "name": "ipython",
    "version": 3
   },
   "file_extension": ".py",
   "mimetype": "text/x-python",
   "name": "python",
   "nbconvert_exporter": "python",
   "pygments_lexer": "ipython3",
   "version": "3.12.4"
  },
  "panel-cell-order": [
   "af2ff684-e393-4a6c-83ad-5b86c5fb784c",
   "8a65ca8a-80ab-430c-88f2-9d99ec3da32a",
   "75d0f4c2-0021-4823-af00-42a596b57300",
   "7098a49f-48c7-463e-a38e-b2c46f13dfe0",
   "89b8c691-c22c-44ab-9c6e-7086aa31eb65",
   "5e81084d-5f95-41f9-9ab6-2f9d2baaa5ee",
   "f6da4be3-05d2-4252-8454-9c56c887fb14",
   "4ca8fc7b-480e-42ec-a803-a96e851314c2",
   "5f52989f-aff8-47bb-9158-710ef6476eb1",
   "8baa0aa4-1a24-4224-8f1c-1152b6af5df3",
   "94734bc1-d8b9-4782-a25f-04592bed5545",
   "8cdea459-0dff-48c7-a646-123fc8ec49d4",
   "edd38975-cd21-42f8-a802-8941ab967b13",
   "3e54d9c0-766a-4d0d-b02a-f84a7c6421e3"
  ]
 },
 "nbformat": 4,
 "nbformat_minor": 5
}
